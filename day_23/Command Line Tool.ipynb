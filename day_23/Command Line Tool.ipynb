{
 "cells": [
  {
   "cell_type": "code",
   "execution_count": 8,
   "id": "2eda8b8f",
   "metadata": {},
   "outputs": [
    {
     "name": "stdout",
     "output_type": "stream",
     "text": [
      "Whats your name?\n",
      "\n",
      "Whats your name?\n",
      "\n",
      "Whats your name?\n",
      "\n",
      "Whats your name?\n",
      "\n",
      "Whats your name?\n",
      "\n",
      "Whats your name?\n",
      "\n",
      "Whats your name?\n",
      "\n",
      "Whats your name?\n",
      "\n",
      "Whats your name?\n",
      "\n",
      "Whats your name?\n",
      "\n",
      "Whats your name?\n",
      "\n"
     ]
    }
   ],
   "source": [
    "tries = 0\n",
    "while True:\n",
    "    name = input(\"Whats your name?\\n\")\n",
    "    if name != None and name != '':\n",
    "        break\n",
    "    else:\n",
    "        tries += 1\n",
    "    if tries > 10:\n",
    "        break\n",
    "    else:\n",
    "        continue"
   ]
  },
  {
   "cell_type": "code",
   "execution_count": 11,
   "id": "7b5c875a",
   "metadata": {},
   "outputs": [
    {
     "name": "stdout",
     "output_type": "stream",
     "text": [
      "What's your password?\n",
      "········\n"
     ]
    }
   ],
   "source": [
    "from getpass import getpass\n",
    "pw = getpass(\"What's your password?\\n\")"
   ]
  },
  {
   "cell_type": "code",
   "execution_count": 12,
   "id": "63b26c09",
   "metadata": {},
   "outputs": [
    {
     "name": "stdout",
     "output_type": "stream",
     "text": [
      "hello\n"
     ]
    }
   ],
   "source": [
    "print(pw)"
   ]
  },
  {
   "cell_type": "code",
   "execution_count": 14,
   "id": "8bdfdca5",
   "metadata": {},
   "outputs": [
    {
     "name": "stdout",
     "output_type": "stream",
     "text": [
      "Writing raw_input.py\n"
     ]
    }
   ],
   "source": [
    "%%writefile raw_input.py\n",
    "\n",
    "name = input(\"Whats your name?\\n\")\n",
    "from getpass import getpass\n",
    "pw = getpass(\"What's your password?\\n\")\n",
    "\n",
    "print(name, pw)"
   ]
  },
  {
   "cell_type": "code",
   "execution_count": 18,
   "id": "8cbd12c2",
   "metadata": {},
   "outputs": [
    {
     "name": "stdout",
     "output_type": "stream",
     "text": [
      "Overwriting cli_sys.py\n"
     ]
    }
   ],
   "source": [
    "%%writefile cli_sys.py\n",
    "import sys # najłatwiejszy sposób ale brak named arguments --argumentMoj wartoscMoja - tego nie ma :<\n",
    "\n",
    "\n",
    "if __name__ == \"__main__\":\n",
    "    try:\n",
    "        name = sys.argv[1] #trzeba polegać na kolejnosci argumentów\n",
    "    except:\n",
    "        name = input(\"What's your name?\\n\")\n",
    "    from getpass import getpass\n",
    "    pw = getpass(\"What's your password?\\n\")\n",
    "    print(name, pw)\n"
   ]
  },
  {
   "cell_type": "code",
   "execution_count": 33,
   "id": "2c495727",
   "metadata": {},
   "outputs": [
    {
     "name": "stdout",
     "output_type": "stream",
     "text": [
      "Overwriting cli_argparse.py\n"
     ]
    }
   ],
   "source": [
    "%%writefile cli_argparse.py\n",
    "import argparse\n",
    "\n",
    "def my_const_fun(*args, **kwargs):\n",
    "    print('const', args, kwargs)\n",
    "\n",
    "def my_default_fun(*args, **kwargs):\n",
    "    print('default', args, kwargs)    \n",
    "\n",
    "if __name__ == \"__main__\":\n",
    "    parser = argparse.ArgumentParser()\n",
    "    # nargs=\"+\" więcej niż jeden argument\n",
    "    parser.add_argument('integers', type=int, nargs=\"+\") #lista\n",
    "#     parser.add_argument('--sum', dest='accumulate', action='store_const', const=sum, default=max)\n",
    "    # parser.add_argument('integers', type=int) #tylko jeden\n",
    "    parser.add_argument('--math', dest='math_is_fun', action='store_const', const=my_const_fun, default=my_default_fun)\n",
    "    \n",
    "    args = parser.parse_args()\n",
    "#     print(args.accumulate(args.integers))\n",
    "    print(args.math_is_fun(args.integers))"
   ]
  },
  {
   "cell_type": "code",
   "execution_count": 34,
   "id": "7c3feaef",
   "metadata": {},
   "outputs": [
    {
     "name": "stdout",
     "output_type": "stream",
     "text": [
      "Collecting fire\n",
      "  Downloading fire-0.4.0.tar.gz (87 kB)\n",
      "     ---------------------------------------- 87.7/87.7 kB 1.6 MB/s eta 0:00:00\n",
      "  Preparing metadata (setup.py): started\n",
      "  Preparing metadata (setup.py): finished with status 'done'\n",
      "Requirement already satisfied: six in c:\\users\\dp\\.virtualenvs\\day_23-pi3pdqab\\lib\\site-packages (from fire) (1.16.0)\n",
      "Collecting termcolor\n",
      "  Downloading termcolor-1.1.0.tar.gz (3.9 kB)\n",
      "  Preparing metadata (setup.py): started\n",
      "  Preparing metadata (setup.py): finished with status 'done'\n",
      "Building wheels for collected packages: fire, termcolor\n",
      "  Building wheel for fire (setup.py): started\n",
      "  Building wheel for fire (setup.py): finished with status 'done'\n",
      "  Created wheel for fire: filename=fire-0.4.0-py2.py3-none-any.whl size=115926 sha256=b769810cccc04ee2780786683a787aa195946b67bc4cf6b2ed33b2894c0cdf29\n",
      "  Stored in directory: c:\\users\\dp\\appdata\\local\\pip\\cache\\wheels\\26\\9a\\dd\\2818b1b023daf077ec3e625c47ae446aca587a5abe48e05212\n",
      "  Building wheel for termcolor (setup.py): started\n",
      "  Building wheel for termcolor (setup.py): finished with status 'done'\n",
      "  Created wheel for termcolor: filename=termcolor-1.1.0-py3-none-any.whl size=4832 sha256=bf3583b319d17c1f158caadedf9095674a671193fc59c40f580d3fd7d1e38f88\n",
      "  Stored in directory: c:\\users\\dp\\appdata\\local\\pip\\cache\\wheels\\a1\\49\\46\\1b13a65d8da11238af9616b00fdde6d45b0f95d9291bac8452\n",
      "Successfully built fire termcolor\n",
      "Installing collected packages: termcolor, fire\n",
      "Successfully installed fire-0.4.0 termcolor-1.1.0\n"
     ]
    }
   ],
   "source": [
    "!pip install fire"
   ]
  },
  {
   "cell_type": "code",
   "execution_count": 35,
   "id": "b0beb977",
   "metadata": {},
   "outputs": [
    {
     "name": "stdout",
     "output_type": "stream",
     "text": [
      "Writing cli_fire.py\n"
     ]
    }
   ],
   "source": [
    "%%writefile cli_fire.py\n",
    "import fire\n",
    "\n",
    "#pythonowa wersja\n",
    "def hello(name='World'): #python cli_fire.py --name Justin\n",
    "    return f\"Hello {name}\"\n",
    "\n",
    "if __name__ == \"__main__\":\n",
    "    fire.Fire(hello)"
   ]
  },
  {
   "cell_type": "code",
   "execution_count": 39,
   "id": "794991e2",
   "metadata": {},
   "outputs": [
    {
     "name": "stdout",
     "output_type": "stream",
     "text": [
      "Overwriting cli_fire_inputs.py\n"
     ]
    }
   ],
   "source": [
    "%%writefile cli_fire_inputs.py\n",
    "from getpass import getpass\n",
    "import fire\n",
    "\n",
    "#pythonowa wersja\n",
    "# def hello(name='World'): #python cli_fire.py --name Justin\n",
    "#     return f\"Hello {name}\"\n",
    "\n",
    "def login(name=None):\n",
    "    if name == None:\n",
    "        name = input(\"What's your name?\\n\")\n",
    "    pw = getpass(\"What's your password?\\n\")\n",
    "    return name, pw\n",
    "\n",
    "if __name__ == \"__main__\":\n",
    "    fire.Fire(login)"
   ]
  },
  {
   "cell_type": "code",
   "execution_count": 44,
   "id": "955b77ac",
   "metadata": {},
   "outputs": [
    {
     "name": "stdout",
     "output_type": "stream",
     "text": [
      "Overwriting cli_fire_pipeline.py\n"
     ]
    }
   ],
   "source": [
    "%%writefile cli_fire_pipeline.py\n",
    "import fire\n",
    "from getpass import getpass\n",
    "\n",
    "class Auth(object):\n",
    "    def login(self, username=None):\n",
    "        if username == None:\n",
    "            username = input('Username: ')\n",
    "        if username == None:\n",
    "            print('A username is requered')\n",
    "            return\n",
    "        pw = getpass(\"Password: \")\n",
    "        return username, pw\n",
    "    \n",
    "def login(self, username=None):\n",
    "    if username == None:\n",
    "        username = input('Username: ')\n",
    "    if username == None:\n",
    "        print('A username is requered')\n",
    "        return\n",
    "    pw = getpass(\"Password: \")\n",
    "    return username, pw\n",
    "\n",
    "\n",
    "def scrape_tag(tag='python', query_filter = \"Votes\", page=1, max_pages=50, pagesize=25):\n",
    "    base_url = 'https://stackoverflow.com/questions/tagged/'\n",
    "    datas = []\n",
    "    for p in range(max_pages):\n",
    "        page_num = p + 1\n",
    "        url = f'{base_url}{tag}?tab={query_filter}&page={page_num}&pagesize={pagesize}'\n",
    "        datas.append(url)\n",
    "    return datas\n",
    "\n",
    "class Pipeline(object):\n",
    "    def __init__(self):\n",
    "        self.scrape = scrape_tag\n",
    "        self.auth = Auth()\n",
    "        self.login = login\n",
    "\n",
    "if __name__ == \"__main__\":\n",
    "#     python cli_fire_pipeline.py scrape --tag \"Javascript\"\n",
    "# python cli_fire_pipeline.py login --username justin\n",
    "# python cli_fire_pipeline.py auth login --username justin\n",
    "    fire.Fire(Pipeline)"
   ]
  },
  {
   "cell_type": "code",
   "execution_count": 46,
   "id": "6992dee2",
   "metadata": {},
   "outputs": [],
   "source": [
    "### Bonus"
   ]
  },
  {
   "cell_type": "code",
   "execution_count": 47,
   "id": "0f4a65dc",
   "metadata": {},
   "outputs": [],
   "source": [
    "import inspect\n",
    "from collections import OrderedDict"
   ]
  },
  {
   "cell_type": "code",
   "execution_count": 52,
   "id": "0f6d285b",
   "metadata": {},
   "outputs": [],
   "source": [
    "def rando_fn(abc, dd='123'):\n",
    "    print(abc, df)"
   ]
  },
  {
   "cell_type": "code",
   "execution_count": 55,
   "id": "ed2fafab",
   "metadata": {},
   "outputs": [
    {
     "name": "stdout",
     "output_type": "stream",
     "text": [
      "odict_keys(['abc', 'dd'])\n",
      "odict_values([<Parameter \"abc\">, <Parameter \"dd='123'\">])\n",
      "odict_items([('abc', <Parameter \"abc\">), ('dd', <Parameter \"dd='123'\">)])\n"
     ]
    }
   ],
   "source": [
    "sig = inspect.signature(rando_fn)\n",
    "print(sig.parameters.keys())\n",
    "print(sig.parameters.values())\n",
    "print(sig.parameters.items())\n"
   ]
  },
  {
   "cell_type": "code",
   "execution_count": 58,
   "id": "57edf27d",
   "metadata": {},
   "outputs": [],
   "source": [
    "def get_signature(fn):\n",
    "    params = inspect.signature(fn).parameters\n",
    "    args = []\n",
    "    kwargs = OrderedDict() #bo kolejnosć argumentów ma znaczenie\n",
    "    for p in params.values():\n",
    "        if p.default is p.empty:\n",
    "            args.append(p.name)\n",
    "        else:\n",
    "            kwargs[p.name] = p.default\n",
    "    return {'args': args, 'kwargs': kwargs}"
   ]
  },
  {
   "cell_type": "code",
   "execution_count": 59,
   "id": "d3a4857b",
   "metadata": {},
   "outputs": [
    {
     "data": {
      "text/plain": [
       "{'args': ['abc'], 'kwargs': OrderedDict([('dd', '123')])}"
      ]
     },
     "execution_count": 59,
     "metadata": {},
     "output_type": "execute_result"
    }
   ],
   "source": [
    "get_signature(rando_fn)"
   ]
  },
  {
   "cell_type": "code",
   "execution_count": null,
   "id": "07b07895",
   "metadata": {},
   "outputs": [],
   "source": []
  }
 ],
 "metadata": {
  "kernelspec": {
   "display_name": "Python 3 (ipykernel)",
   "language": "python",
   "name": "python3"
  },
  "language_info": {
   "codemirror_mode": {
    "name": "ipython",
    "version": 3
   },
   "file_extension": ".py",
   "mimetype": "text/x-python",
   "name": "python",
   "nbconvert_exporter": "python",
   "pygments_lexer": "ipython3",
   "version": "3.10.4"
  }
 },
 "nbformat": 4,
 "nbformat_minor": 5
}
