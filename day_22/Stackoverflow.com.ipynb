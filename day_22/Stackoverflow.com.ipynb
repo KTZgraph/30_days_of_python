{
 "cells": [
  {
   "cell_type": "code",
   "execution_count": null,
   "id": "af194ad2",
   "metadata": {},
   "outputs": [],
   "source": [
    "# !pip install requests-html requests"
   ]
  },
  {
   "cell_type": "code",
   "execution_count": 3,
   "id": "cecd2767",
   "metadata": {},
   "outputs": [],
   "source": [
    "import requests\n",
    "from requests_html import HTML"
   ]
  },
  {
   "cell_type": "code",
   "execution_count": 5,
   "id": "b8c858bd",
   "metadata": {},
   "outputs": [
    {
     "data": {
      "text/plain": [
       "'https://stackoverflow.com/questions/tagged/python?tab=Votes'"
      ]
     },
     "execution_count": 5,
     "metadata": {},
     "output_type": "execute_result"
    }
   ],
   "source": [
    "base_url = 'https://stackoverflow.com/questions/tagged/'\n",
    "tag = 'python'\n",
    "query_filter = \"Votes\"\n",
    "url = f'{base_url}{tag}?tab={query_filter}'\n",
    "url"
   ]
  },
  {
   "cell_type": "code",
   "execution_count": 7,
   "id": "8e1ebfb4",
   "metadata": {},
   "outputs": [],
   "source": [
    "r = requests.get(url)\n",
    "html_str = r.text"
   ]
  },
  {
   "cell_type": "code",
   "execution_count": 8,
   "id": "140b8a13",
   "metadata": {},
   "outputs": [],
   "source": [
    "html = HTML(html=html_str)"
   ]
  },
  {
   "cell_type": "code",
   "execution_count": 24,
   "id": "c9cd2649",
   "metadata": {},
   "outputs": [
    {
     "name": "stdout",
     "output_type": "stream",
     "text": [
      "<Element 'div' id='question-summary-231767' class=('s-post-summary', 'js-post-summary') data-post-id='231767' data-post-type-id='1'>\n"
     ]
    }
   ],
   "source": [
    "question_summaries = html.find('.s-post-summary') #seleium inaczej\n",
    "print(question_summaries)"
   ]
  },
  {
   "cell_type": "code",
   "execution_count": 11,
   "id": "7746ec3d",
   "metadata": {},
   "outputs": [
    {
     "name": "stdout",
     "output_type": "stream",
     "text": [
      "12063 votes\n",
      "48 answers\n",
      "2.9m views\n",
      "What does the \"yield\" keyword do?\n",
      "What is the use of the yield keyword in Python? What does it do? For example, I'm trying to understand this code1: def _get_child_candidates(self, distance, min_dist, max_dist): if self._leftchild ...\n",
      "python iterator generator\n",
      "Alex. S.\n",
      "136k\n",
      "asked Oct 23, 2008 at 22:21\n"
     ]
    }
   ],
   "source": [
    "print(question_summaries[0].text)"
   ]
  },
  {
   "cell_type": "code",
   "execution_count": 12,
   "id": "452238a6",
   "metadata": {},
   "outputs": [],
   "source": [
    "columns = ['votes', 'num_answers', 'views', 'question', 'short_desc', 'tags', 'user', 'user_details', 'date']"
   ]
  },
  {
   "cell_type": "code",
   "execution_count": 20,
   "id": "a48abd12",
   "metadata": {},
   "outputs": [],
   "source": [
    "# this_row = list(question_summaries[0].text.split('\\n'))\n",
    "# this_row"
   ]
  },
  {
   "cell_type": "code",
   "execution_count": 18,
   "id": "14018e6a",
   "metadata": {},
   "outputs": [],
   "source": [
    "# len(this_row) == len(columns)"
   ]
  },
  {
   "cell_type": "code",
   "execution_count": 17,
   "id": "5403b6cd",
   "metadata": {},
   "outputs": [],
   "source": [
    "# row_data = dict(zip(columns, this_row))\n",
    "# row_data"
   ]
  },
  {
   "cell_type": "code",
   "execution_count": 44,
   "id": "690f09b2",
   "metadata": {},
   "outputs": [
    {
     "data": {
      "text/plain": [
       "'12063'"
      ]
     },
     "execution_count": 44,
     "metadata": {},
     "output_type": "execute_result"
    }
   ],
   "source": [
    "key_names = ['question', 'votes', 'tags']\n",
    "classes_nedded = ['.s-link', '.s-post-summary--stats-item', '.tags'] #gdy klasy się zmienią to cay kod się zmieni\n",
    "this_question_element = question_summaries[0]\n",
    "this_question_element.find('.s-link', first=True).text\n",
    "this_question_element.find('.s-post-summary--stats-item', first=True).text.replace(' votes', '') #tutuaj można regexy"
   ]
  },
  {
   "cell_type": "code",
   "execution_count": 47,
   "id": "7c20d1c4",
   "metadata": {},
   "outputs": [],
   "source": [
    "def clean_scraped_data(text, keyname=None):\n",
    "    if keyname == 'votes':\n",
    "        return text.replace(' votes', '')\n",
    "    return text"
   ]
  },
  {
   "cell_type": "code",
   "execution_count": 48,
   "id": "8c2d629b",
   "metadata": {},
   "outputs": [],
   "source": [
    "datas = []\n",
    "\n",
    "for q_el in question_summaries:\n",
    "    question_data = {}\n",
    "    for i, _class in enumerate(classes_nedded):\n",
    "        sub_el = q_el.find(_class, first=True)\n",
    "        keyname = key_names[i]\n",
    "        question_data[keyname] = clean_scraped_data(sub_el.text, keyname=keyname)\n",
    "    datas.append(question_data)"
   ]
  },
  {
   "cell_type": "code",
   "execution_count": 49,
   "id": "c6cf933c",
   "metadata": {},
   "outputs": [
    {
     "data": {
      "text/plain": [
       "{'question': 'What does the \"yield\" keyword do?',\n",
       " 'votes': '12063',\n",
       " 'tags': 'python iterator generator'}"
      ]
     },
     "execution_count": 49,
     "metadata": {},
     "output_type": "execute_result"
    }
   ],
   "source": [
    "datas[0]"
   ]
  },
  {
   "cell_type": "code",
   "execution_count": null,
   "id": "e8c4073c",
   "metadata": {},
   "outputs": [],
   "source": []
  }
 ],
 "metadata": {
  "kernelspec": {
   "display_name": "Python 3 (ipykernel)",
   "language": "python",
   "name": "python3"
  },
  "language_info": {
   "codemirror_mode": {
    "name": "ipython",
    "version": 3
   },
   "file_extension": ".py",
   "mimetype": "text/x-python",
   "name": "python",
   "nbconvert_exporter": "python",
   "pygments_lexer": "ipython3",
   "version": "3.10.4"
  }
 },
 "nbformat": 4,
 "nbformat_minor": 5
}
