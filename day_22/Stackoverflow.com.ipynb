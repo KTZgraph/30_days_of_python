{
 "cells": [
  {
   "cell_type": "code",
   "execution_count": 63,
   "id": "154f50f1",
   "metadata": {},
   "outputs": [
    {
     "name": "stdout",
     "output_type": "stream",
     "text": [
      "Requirement already satisfied: requests-html in c:\\users\\dp\\.virtualenvs\\day_22-3ruvxcuw\\lib\\site-packages (0.10.0)\n",
      "Requirement already satisfied: requests in c:\\users\\dp\\.virtualenvs\\day_22-3ruvxcuw\\lib\\site-packages (2.28.0)\n",
      "Collecting pandas\n",
      "  Using cached pandas-1.4.2-cp310-cp310-win_amd64.whl (10.6 MB)\n",
      "Requirement already satisfied: w3lib in c:\\users\\dp\\.virtualenvs\\day_22-3ruvxcuw\\lib\\site-packages (from requests-html) (1.22.0)\n",
      "Requirement already satisfied: pyppeteer>=0.0.14 in c:\\users\\dp\\.virtualenvs\\day_22-3ruvxcuw\\lib\\site-packages (from requests-html) (1.0.2)\n",
      "Requirement already satisfied: pyquery in c:\\users\\dp\\.virtualenvs\\day_22-3ruvxcuw\\lib\\site-packages (from requests-html) (1.4.3)\n",
      "Requirement already satisfied: fake-useragent in c:\\users\\dp\\.virtualenvs\\day_22-3ruvxcuw\\lib\\site-packages (from requests-html) (0.1.11)\n",
      "Requirement already satisfied: bs4 in c:\\users\\dp\\.virtualenvs\\day_22-3ruvxcuw\\lib\\site-packages (from requests-html) (0.0.1)\n",
      "Requirement already satisfied: parse in c:\\users\\dp\\.virtualenvs\\day_22-3ruvxcuw\\lib\\site-packages (from requests-html) (1.19.0)\n",
      "Requirement already satisfied: certifi>=2017.4.17 in c:\\users\\dp\\.virtualenvs\\day_22-3ruvxcuw\\lib\\site-packages (from requests) (2022.5.18.1)\n",
      "Requirement already satisfied: idna<4,>=2.5 in c:\\users\\dp\\.virtualenvs\\day_22-3ruvxcuw\\lib\\site-packages (from requests) (3.3)\n",
      "Requirement already satisfied: charset-normalizer~=2.0.0 in c:\\users\\dp\\.virtualenvs\\day_22-3ruvxcuw\\lib\\site-packages (from requests) (2.0.12)\n",
      "Requirement already satisfied: urllib3<1.27,>=1.21.1 in c:\\users\\dp\\.virtualenvs\\day_22-3ruvxcuw\\lib\\site-packages (from requests) (1.26.9)\n",
      "Collecting pytz>=2020.1\n",
      "  Using cached pytz-2022.1-py2.py3-none-any.whl (503 kB)\n",
      "Collecting numpy>=1.21.0\n",
      "  Using cached numpy-1.22.4-cp310-cp310-win_amd64.whl (14.7 MB)\n",
      "Requirement already satisfied: python-dateutil>=2.8.1 in c:\\users\\dp\\.virtualenvs\\day_22-3ruvxcuw\\lib\\site-packages (from pandas) (2.8.2)\n",
      "Requirement already satisfied: importlib-metadata>=1.4 in c:\\users\\dp\\.virtualenvs\\day_22-3ruvxcuw\\lib\\site-packages (from pyppeteer>=0.0.14->requests-html) (4.11.4)\n",
      "Requirement already satisfied: appdirs<2.0.0,>=1.4.3 in c:\\users\\dp\\.virtualenvs\\day_22-3ruvxcuw\\lib\\site-packages (from pyppeteer>=0.0.14->requests-html) (1.4.4)\n",
      "Requirement already satisfied: tqdm<5.0.0,>=4.42.1 in c:\\users\\dp\\.virtualenvs\\day_22-3ruvxcuw\\lib\\site-packages (from pyppeteer>=0.0.14->requests-html) (4.64.0)\n",
      "Requirement already satisfied: pyee<9.0.0,>=8.1.0 in c:\\users\\dp\\.virtualenvs\\day_22-3ruvxcuw\\lib\\site-packages (from pyppeteer>=0.0.14->requests-html) (8.2.2)\n",
      "Requirement already satisfied: websockets<11.0,>=10.0 in c:\\users\\dp\\.virtualenvs\\day_22-3ruvxcuw\\lib\\site-packages (from pyppeteer>=0.0.14->requests-html) (10.3)\n",
      "Requirement already satisfied: six>=1.5 in c:\\users\\dp\\.virtualenvs\\day_22-3ruvxcuw\\lib\\site-packages (from python-dateutil>=2.8.1->pandas) (1.16.0)\n",
      "Requirement already satisfied: beautifulsoup4 in c:\\users\\dp\\.virtualenvs\\day_22-3ruvxcuw\\lib\\site-packages (from bs4->requests-html) (4.11.1)\n",
      "Requirement already satisfied: lxml>=2.1 in c:\\users\\dp\\.virtualenvs\\day_22-3ruvxcuw\\lib\\site-packages (from pyquery->requests-html) (4.9.0)\n",
      "Requirement already satisfied: cssselect>0.7.9 in c:\\users\\dp\\.virtualenvs\\day_22-3ruvxcuw\\lib\\site-packages (from pyquery->requests-html) (1.1.0)\n",
      "Requirement already satisfied: zipp>=0.5 in c:\\users\\dp\\.virtualenvs\\day_22-3ruvxcuw\\lib\\site-packages (from importlib-metadata>=1.4->pyppeteer>=0.0.14->requests-html) (3.8.0)\n",
      "Requirement already satisfied: colorama in c:\\users\\dp\\.virtualenvs\\day_22-3ruvxcuw\\lib\\site-packages (from tqdm<5.0.0,>=4.42.1->pyppeteer>=0.0.14->requests-html) (0.4.4)\n",
      "Requirement already satisfied: soupsieve>1.2 in c:\\users\\dp\\.virtualenvs\\day_22-3ruvxcuw\\lib\\site-packages (from beautifulsoup4->bs4->requests-html) (2.3.2.post1)\n",
      "Installing collected packages: pytz, numpy, pandas\n",
      "Successfully installed numpy-1.22.4 pandas-1.4.2 pytz-2022.1\n"
     ]
    }
   ],
   "source": [
    "# !pip install requests-html requests pandas"
   ]
  },
  {
   "cell_type": "code",
   "execution_count": 66,
   "id": "0f57df40",
   "metadata": {},
   "outputs": [],
   "source": [
    "import requests\n",
    "from requests_html import HTML\n",
    "import time\n",
    "import pandas as pd"
   ]
  },
  {
   "cell_type": "code",
   "execution_count": 5,
   "id": "e9f24542",
   "metadata": {},
   "outputs": [
    {
     "data": {
      "text/plain": [
       "'https://stackoverflow.com/questions/tagged/python?tab=Votes'"
      ]
     },
     "execution_count": 5,
     "metadata": {},
     "output_type": "execute_result"
    }
   ],
   "source": [
    "base_url = 'https://stackoverflow.com/questions/tagged/'\n",
    "tag = 'python'\n",
    "query_filter = \"Votes\"\n",
    "url = f'{base_url}{tag}?tab={query_filter}'\n",
    "url"
   ]
  },
  {
   "cell_type": "code",
   "execution_count": 50,
   "id": "68d622c1",
   "metadata": {},
   "outputs": [],
   "source": [
    "r = requests.get(url)\n",
    "html_str = r.text\n",
    "html = HTML(html=html_str)"
   ]
  },
  {
   "cell_type": "code",
   "execution_count": 8,
   "id": "9d898216",
   "metadata": {},
   "outputs": [],
   "source": [
    "# html = HTML(html=html_str)"
   ]
  },
  {
   "cell_type": "code",
   "execution_count": 24,
   "id": "973bb810",
   "metadata": {},
   "outputs": [
    {
     "name": "stdout",
     "output_type": "stream",
     "text": [
      "<Element 'div' id='question-summary-231767' class=('s-post-summary', 'js-post-summary') data-post-id='231767' data-post-type-id='1'>\n"
     ]
    }
   ],
   "source": [
    "question_summaries = html.find('.s-post-summary') #seleium inaczej\n",
    "print(question_summaries)"
   ]
  },
  {
   "cell_type": "code",
   "execution_count": 11,
   "id": "d5090738",
   "metadata": {},
   "outputs": [
    {
     "name": "stdout",
     "output_type": "stream",
     "text": [
      "12063 votes\n",
      "48 answers\n",
      "2.9m views\n",
      "What does the \"yield\" keyword do?\n",
      "What is the use of the yield keyword in Python? What does it do? For example, I'm trying to understand this code1: def _get_child_candidates(self, distance, min_dist, max_dist): if self._leftchild ...\n",
      "python iterator generator\n",
      "Alex. S.\n",
      "136k\n",
      "asked Oct 23, 2008 at 22:21\n"
     ]
    }
   ],
   "source": [
    "print(question_summaries[0].text)"
   ]
  },
  {
   "cell_type": "code",
   "execution_count": 12,
   "id": "9c40593c",
   "metadata": {},
   "outputs": [],
   "source": [
    "columns = ['votes', 'num_answers', 'views', 'question', 'short_desc', 'tags', 'user', 'user_details', 'date']"
   ]
  },
  {
   "cell_type": "code",
   "execution_count": 20,
   "id": "d87dfaaa",
   "metadata": {},
   "outputs": [],
   "source": [
    "# this_row = list(question_summaries[0].text.split('\\n'))\n",
    "# this_row"
   ]
  },
  {
   "cell_type": "code",
   "execution_count": 18,
   "id": "dac33c31",
   "metadata": {},
   "outputs": [],
   "source": [
    "# len(this_row) == len(columns)"
   ]
  },
  {
   "cell_type": "code",
   "execution_count": 17,
   "id": "f91ea322",
   "metadata": {},
   "outputs": [],
   "source": [
    "# row_data = dict(zip(columns, this_row))\n",
    "# row_data"
   ]
  },
  {
   "cell_type": "code",
   "execution_count": 44,
   "id": "31de5b0c",
   "metadata": {},
   "outputs": [
    {
     "data": {
      "text/plain": [
       "'12063'"
      ]
     },
     "execution_count": 44,
     "metadata": {},
     "output_type": "execute_result"
    }
   ],
   "source": [
    "key_names = ['question', 'votes', 'tags']\n",
    "classes_nedded = ['.s-link', '.s-post-summary--stats-item', '.tags'] #gdy klasy się zmienią to cay kod się zmieni\n",
    "this_question_element = question_summaries[0]\n",
    "this_question_element.find('.s-link', first=True).text\n",
    "this_question_element.find('.s-post-summary--stats-item', first=True).text.replace(' votes', '') #tutuaj można regexy"
   ]
  },
  {
   "cell_type": "code",
   "execution_count": 47,
   "id": "0a1fedcf",
   "metadata": {},
   "outputs": [],
   "source": [
    "def clean_scraped_data(text, keyname=None):\n",
    "    if keyname == 'votes':\n",
    "        return text.replace(' votes', '')\n",
    "    return text"
   ]
  },
  {
   "cell_type": "code",
   "execution_count": 48,
   "id": "0a7ef6f0",
   "metadata": {},
   "outputs": [],
   "source": [
    "datas = []\n",
    "\n",
    "for q_el in question_summaries:\n",
    "    question_data = {}\n",
    "    for i, _class in enumerate(classes_nedded):\n",
    "        sub_el = q_el.find(_class, first=True)\n",
    "        keyname = key_names[i]\n",
    "        question_data[keyname] = clean_scraped_data(sub_el.text, keyname=keyname)\n",
    "    datas.append(question_data)"
   ]
  },
  {
   "cell_type": "code",
   "execution_count": 49,
   "id": "808fd1ee",
   "metadata": {},
   "outputs": [
    {
     "data": {
      "text/plain": [
       "{'question': 'What does the \"yield\" keyword do?',\n",
       " 'votes': '12063',\n",
       " 'tags': 'python iterator generator'}"
      ]
     },
     "execution_count": 49,
     "metadata": {},
     "output_type": "execute_result"
    }
   ],
   "source": [
    "datas[0]"
   ]
  },
  {
   "cell_type": "code",
   "execution_count": 52,
   "id": "9795d382",
   "metadata": {},
   "outputs": [],
   "source": [
    "def parse_tagged_page(html):\n",
    "    question_summaries = html.find('.s-post-summary')\n",
    "    key_names = ['question', 'votes', 'tags']\n",
    "    classes_nedded = ['.s-link', '.s-post-summary--stats-item', '.tags'] #gdy klasy się zmienią to cay kod się zmieni\n",
    "    datas = []\n",
    "    for q_el in question_summaries:\n",
    "        question_data = {}\n",
    "        for i, _class in enumerate(classes_nedded):\n",
    "            sub_el = q_el.find(_class, first=True)\n",
    "            keyname = key_names[i]\n",
    "            question_data[keyname] = clean_scraped_data(sub_el.text, keyname=keyname)\n",
    "        datas.append(question_data)\n",
    "    return datas\n"
   ]
  },
  {
   "cell_type": "code",
   "execution_count": 53,
   "id": "a4dc6dbd",
   "metadata": {},
   "outputs": [],
   "source": [
    "def extract_data_from_url(url):\n",
    "    r = requests.get(url)\n",
    "    if r.status_code not in range(200, 299):\n",
    "        return []\n",
    "    html_str = r.text\n",
    "    html = HTML(html=html_str)\n",
    "    datas = parse_tagged_page(html)\n",
    "    return datas"
   ]
  },
  {
   "cell_type": "code",
   "execution_count": 60,
   "id": "c12fa15b",
   "metadata": {},
   "outputs": [],
   "source": [
    "def scrape_tag(tag='python', query_filter = \"Votes\", page=1, max_pages=50, pagesize=25):\n",
    "    base_url = 'https://stackoverflow.com/questions/tagged/'\n",
    "    datas = []\n",
    "    for p in range(max_pages):\n",
    "        page_num = p + 1\n",
    "        url = f'{base_url}{tag}?tab={query_filter}&page={page_num}&pagesize={pagesize}'\n",
    "        datas += extract_data_from_url(url)\n",
    "        time.sleep(1.2)\n",
    "    return datas"
   ]
  },
  {
   "cell_type": "code",
   "execution_count": 62,
   "id": "ac4e3dcb",
   "metadata": {},
   "outputs": [],
   "source": [
    "datas = scrape_tag(tag='python')"
   ]
  },
  {
   "cell_type": "code",
   "execution_count": 64,
   "id": "90858626",
   "metadata": {},
   "outputs": [
    {
     "data": {
      "text/plain": [
       "2500"
      ]
     },
     "execution_count": 64,
     "metadata": {},
     "output_type": "execute_result"
    }
   ],
   "source": [
    "len(datas)"
   ]
  },
  {
   "cell_type": "code",
   "execution_count": 69,
   "id": "cff57e73",
   "metadata": {},
   "outputs": [
    {
     "data": {
      "text/html": [
       "<div>\n",
       "<style scoped>\n",
       "    .dataframe tbody tr th:only-of-type {\n",
       "        vertical-align: middle;\n",
       "    }\n",
       "\n",
       "    .dataframe tbody tr th {\n",
       "        vertical-align: top;\n",
       "    }\n",
       "\n",
       "    .dataframe thead th {\n",
       "        text-align: right;\n",
       "    }\n",
       "</style>\n",
       "<table border=\"1\" class=\"dataframe\">\n",
       "  <thead>\n",
       "    <tr style=\"text-align: right;\">\n",
       "      <th></th>\n",
       "      <th>question</th>\n",
       "      <th>votes</th>\n",
       "      <th>tags</th>\n",
       "    </tr>\n",
       "  </thead>\n",
       "  <tbody>\n",
       "    <tr>\n",
       "      <th>0</th>\n",
       "      <td>What does the \"yield\" keyword do?</td>\n",
       "      <td>12063</td>\n",
       "      <td>python iterator generator</td>\n",
       "    </tr>\n",
       "    <tr>\n",
       "      <th>1</th>\n",
       "      <td>What does if __name__ == \"__main__\": do?</td>\n",
       "      <td>7514</td>\n",
       "      <td>python namespaces main python-module idioms</td>\n",
       "    </tr>\n",
       "    <tr>\n",
       "      <th>2</th>\n",
       "      <td>Does Python have a ternary conditional operator?</td>\n",
       "      <td>7323</td>\n",
       "      <td>python operators conditional-operator</td>\n",
       "    </tr>\n",
       "    <tr>\n",
       "      <th>3</th>\n",
       "      <td>What are metaclasses in Python?</td>\n",
       "      <td>6801</td>\n",
       "      <td>python oop metaclass python-class python-datam...</td>\n",
       "    </tr>\n",
       "    <tr>\n",
       "      <th>4</th>\n",
       "      <td>How do I check whether a file exists without e...</td>\n",
       "      <td>6651</td>\n",
       "      <td>python file file-exists</td>\n",
       "    </tr>\n",
       "  </tbody>\n",
       "</table>\n",
       "</div>"
      ],
      "text/plain": [
       "                                            question  votes  \\\n",
       "0                  What does the \"yield\" keyword do?  12063   \n",
       "1           What does if __name__ == \"__main__\": do?   7514   \n",
       "2   Does Python have a ternary conditional operator?   7323   \n",
       "3                    What are metaclasses in Python?   6801   \n",
       "4  How do I check whether a file exists without e...   6651   \n",
       "\n",
       "                                                tags  \n",
       "0                          python iterator generator  \n",
       "1        python namespaces main python-module idioms  \n",
       "2              python operators conditional-operator  \n",
       "3  python oop metaclass python-class python-datam...  \n",
       "4                            python file file-exists  "
      ]
     },
     "execution_count": 69,
     "metadata": {},
     "output_type": "execute_result"
    }
   ],
   "source": [
    "df = pd.DataFrame(datas)\n",
    "df.head()"
   ]
  },
  {
   "cell_type": "code",
   "execution_count": 71,
   "id": "c0c36471",
   "metadata": {},
   "outputs": [
    {
     "data": {
      "text/plain": [
       "(2500, 3)"
      ]
     },
     "execution_count": 71,
     "metadata": {},
     "output_type": "execute_result"
    }
   ],
   "source": [
    "df.shape"
   ]
  },
  {
   "cell_type": "code",
   "execution_count": 73,
   "id": "ee7b47b3",
   "metadata": {},
   "outputs": [],
   "source": [
    "df.to_csv('python.csv', index=False)"
   ]
  },
  {
   "cell_type": "code",
   "execution_count": null,
   "id": "52f0b763",
   "metadata": {},
   "outputs": [],
   "source": []
  }
 ],
 "metadata": {
  "kernelspec": {
   "display_name": "Python 3 (ipykernel)",
   "language": "python",
   "name": "python3"
  },
  "language_info": {
   "codemirror_mode": {
    "name": "ipython",
    "version": 3
   },
   "file_extension": ".py",
   "mimetype": "text/x-python",
   "name": "python",
   "nbconvert_exporter": "python",
   "pygments_lexer": "ipython3",
   "version": "3.10.4"
  }
 },
 "nbformat": 4,
 "nbformat_minor": 5
}
